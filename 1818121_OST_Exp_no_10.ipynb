{
  "nbformat": 4,
  "nbformat_minor": 0,
  "metadata": {
    "colab": {
      "name": "1818121_OST_Exp_no_10.ipynb",
      "provenance": [],
      "collapsed_sections": [],
      "authorship_tag": "ABX9TyMMDqnTZi9SAZ4YzLQrKEP3",
      "include_colab_link": true
    },
    "kernelspec": {
      "name": "python3",
      "display_name": "Python 3"
    }
  },
  "cells": [
    {
      "cell_type": "markdown",
      "metadata": {
        "id": "view-in-github",
        "colab_type": "text"
      },
      "source": [
        "<a href=\"https://colab.research.google.com/github/gomathiaravindan/Machine_Learning/blob/main/1818121_OST_Exp_no_10.ipynb\" target=\"_parent\"><img src=\"https://colab.research.google.com/assets/colab-badge.svg\" alt=\"Open In Colab\"/></a>"
      ]
    },
    {
      "cell_type": "markdown",
      "metadata": {
        "id": "yWSxM5a4sgrv"
      },
      "source": [
        "Write a NumPy program to compute sum of two arrays\n",
        "\n"
      ]
    },
    {
      "cell_type": "code",
      "metadata": {
        "colab": {
          "base_uri": "https://localhost:8080/"
        },
        "id": "KlIubPcrspzO",
        "outputId": "fe15d429-4da4-4dfa-af0a-ff091f87cb16"
      },
      "source": [
        "import numpy as np\n",
        " \n",
        "arr1 = np.array([3, 2, 1])\n",
        "arr2 = np.array([1, 2, 3])\n",
        "   \n",
        "print (\"1st array : \", arr1)  \n",
        "print (\"2nd array : \", arr2)  \n",
        "   \n",
        "out_arr = np.add(arr1, arr2)  \n",
        "print (\"added array : \", out_arr)  "
      ],
      "execution_count": null,
      "outputs": [
        {
          "output_type": "stream",
          "text": [
            "1st array :  [3 2 1]\n",
            "2nd array :  [1 2 3]\n",
            "added array :  [4 4 4]\n"
          ],
          "name": "stdout"
        }
      ]
    },
    {
      "cell_type": "markdown",
      "metadata": {
        "id": "e4QNHULfsz3L"
      },
      "source": [
        "Write a NumPy program to find the sum of the array\n"
      ]
    },
    {
      "cell_type": "code",
      "metadata": {
        "colab": {
          "base_uri": "https://localhost:8080/"
        },
        "id": "tAarKvCFrb01",
        "outputId": "723bd128-de77-48e7-99d3-d6efc64a8fca"
      },
      "source": [
        "import numpy as np\n",
        "num = np.arange(36)\n",
        "arr1 = np.reshape(num, [4, 9])\n",
        "print(\"Original array:\")\n",
        "print(arr1)\n",
        "result  = np.sum(arr1)\n",
        "print(\"\\nSum of all elements:\")\n",
        "print(result)\n"
      ],
      "execution_count": null,
      "outputs": [
        {
          "output_type": "stream",
          "text": [
            "Original array:\n",
            "[[ 0  1  2  3  4  5  6  7  8]\n",
            " [ 9 10 11 12 13 14 15 16 17]\n",
            " [18 19 20 21 22 23 24 25 26]\n",
            " [27 28 29 30 31 32 33 34 35]]\n",
            "\n",
            "Sum of all columns:\n",
            "630\n"
          ],
          "name": "stdout"
        }
      ]
    },
    {
      "cell_type": "markdown",
      "metadata": {
        "id": "7dyvvg5etOlQ"
      },
      "source": [
        "Write a NumPy program to find the square root of two array\n"
      ]
    },
    {
      "cell_type": "code",
      "metadata": {
        "colab": {
          "base_uri": "https://localhost:8080/"
        },
        "id": "e0H4pOWYtZp1",
        "outputId": "751a7d43-b722-4f89-cf4b-b2192523413e"
      },
      "source": [
        "# Python program explaining \n",
        "# numpy.sqrt() method \n",
        "\n",
        "# importing numpy \n",
        "import numpy as goms \n",
        "\n",
        "# applying sqrt() method on integer numbers \n",
        "arr1 = goms.sqrt([1, 4, 9, 16]) \n",
        "arr2 = goms.sqrt([6, 10, 18]) \n",
        "\n",
        "print(\"square-root of an array1 : \", arr1) \n",
        "print(\"square-root of an array2 : \", arr2) \n"
      ],
      "execution_count": null,
      "outputs": [
        {
          "output_type": "stream",
          "text": [
            "square-root of an array1 :  [1. 2. 3. 4.]\n",
            "square-root of an array2 :  [2.44948974 3.16227766 4.24264069]\n"
          ],
          "name": "stdout"
        }
      ]
    },
    {
      "cell_type": "markdown",
      "metadata": {
        "id": "RZo2Ww9_uGVj"
      },
      "source": [
        "Write a NumPy program to find the sum of each column and each row of two array\n"
      ]
    },
    {
      "cell_type": "code",
      "metadata": {
        "colab": {
          "base_uri": "https://localhost:8080/"
        },
        "id": "EUoFEx-kuQiI",
        "outputId": "5835725e-8c69-4967-c969-808b619e2a5e"
      },
      "source": [
        "import numpy as np\n",
        "x = np.array([[12,13],[2,9]])\n",
        "print(\"Original array:\")\n",
        "print(x)\n",
        "print(\"Sum of all elements:\")\n",
        "print(np.sum(x))\n",
        "print(\"Sum of each column:\")\n",
        "print(np.sum(x, axis=0))\n",
        "print(\"Sum of each row:\")\n",
        "print(np.sum(x, axis=1))\n"
      ],
      "execution_count": null,
      "outputs": [
        {
          "output_type": "stream",
          "text": [
            "Original array:\n",
            "[[12 13]\n",
            " [ 2  9]]\n",
            "Sum of each column:\n",
            "[14 22]\n",
            "Sum of each row:\n",
            "[25 11]\n"
          ],
          "name": "stdout"
        }
      ]
    },
    {
      "cell_type": "markdown",
      "metadata": {
        "id": "1l7a-xaPw2wb"
      },
      "source": [
        "Write a NumPy program to find the transpose of two array\n"
      ]
    },
    {
      "cell_type": "code",
      "metadata": {
        "colab": {
          "base_uri": "https://localhost:8080/"
        },
        "id": "Bx95JPy5xeLT",
        "outputId": "34bf7b8d-fc7d-4a39-df35-c7a8ecc6caf6"
      },
      "source": [
        "# import the important module in python \n",
        "import numpy as np \n",
        "\t\t\t\n",
        "# make matrix with numpy \n",
        "gfg = np.matrix('[4, 1, 10; 12, 3, 1; 1, 2, 3]') \n",
        "\t\t\t\n",
        "# applying matrix.transpose() method \n",
        "goms = gfg.transpose() \n",
        "\t\n",
        "print(goms) \n"
      ],
      "execution_count": null,
      "outputs": [
        {
          "output_type": "stream",
          "text": [
            "[[ 4 12  1]\n",
            " [ 1  3  2]\n",
            " [10  1  3]]\n"
          ],
          "name": "stdout"
        }
      ]
    }
  ]
}