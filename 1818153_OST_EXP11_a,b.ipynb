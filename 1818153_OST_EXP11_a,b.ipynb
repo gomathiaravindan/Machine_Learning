{
  "nbformat": 4,
  "nbformat_minor": 0,
  "metadata": {
    "colab": {
      "name": "1818153_OST_EXP11_a,b.ipynb",
      "provenance": [],
      "collapsed_sections": [],
      "include_colab_link": true
    },
    "kernelspec": {
      "name": "python3",
      "display_name": "Python 3"
    }
  },
  "cells": [
    {
      "cell_type": "markdown",
      "metadata": {
        "id": "view-in-github",
        "colab_type": "text"
      },
      "source": [
        "<a href=\"https://colab.research.google.com/github/gomathiaravindan/Machine_Learning/blob/main/1818153_OST_EXP11_a%2Cb.ipynb\" target=\"_parent\"><img src=\"https://colab.research.google.com/assets/colab-badge.svg\" alt=\"Open In Colab\"/></a>"
      ]
    },
    {
      "cell_type": "markdown",
      "metadata": {
        "id": "67Sd7kFgAsEG"
      },
      "source": [
        "11A)Write a numpy program to compute the x and y coordinates for poins on a sine curve and plot the points using matplotlib."
      ]
    },
    {
      "cell_type": "code",
      "metadata": {
        "colab": {
          "base_uri": "https://localhost:8080/",
          "height": 282
        },
        "id": "QLTDLafch03B",
        "outputId": "0042bf96-e6d3-410c-a123-f10d0723adb1"
      },
      "source": [
        "import numpy as np\n",
        "import matplotlib.pyplot as plt\n",
        "# Compute the x and y coordinates for points on a sine curve\n",
        "x = np.arange(0, 3 * np.pi, 0.4)\n",
        "y = np.sin(x)\n",
        "print(\"Plot the points using matplotlib:\")\n",
        "plt.plot(x, y)\n",
        "plt.show()"
      ],
      "execution_count": null,
      "outputs": [
        {
          "output_type": "stream",
          "text": [
            "Plot the points using matplotlib:\n"
          ],
          "name": "stdout"
        },
        {
          "output_type": "display_data",
          "data": {
            "image/png": "[encoded data removed]",
            "text/plain": [
              "<Figure size 432x288 with 1 Axes>"
            ]
          },
          "metadata": {
            "tags": [],
            "needs_background": "light"
          }
        }
      ]
    },
    {
      "cell_type": "markdown",
      "metadata": {
        "id": "BIc4RuAYA8Cf"
      },
      "source": [
        "11b)Import python statistical packages and illustrate the calculation of mean of a sample with 10data points."
      ]
    },
    {
      "cell_type": "code",
      "metadata": {
        "id": "bBXQg5hcqm6T",
        "colab": {
          "base_uri": "https://localhost:8080/"
        },
        "outputId": "639eff26-d4c8-4797-cd67-e40c7184190e"
      },
      "source": [
        "import statistics\n",
        "list_1=[]\n",
        "n=int(input(\"enter the number of elements\"))\n",
        "for i in range(n):\n",
        "  list_1.append(int(input(\"enter element\")))\n",
        "statistics.mean(list_1)\n",
        "\n"
      ],
      "execution_count": null,
      "outputs": [
        {
          "output_type": "stream",
          "text": [
            "enter the number of elements10\n",
            "enter element1\n",
            "enter element2\n",
            "enter element3\n",
            "enter element4\n",
            "enter element5\n",
            "enter element6\n",
            "enter element7\n",
            "enter element8\n",
            "enter element9\n",
            "enter element10\n"
          ],
          "name": "stdout"
        },
        {
          "output_type": "execute_result",
          "data": {
            "text/plain": [
              "5.5"
            ]
          },
          "metadata": {
            "tags": []
          },
          "execution_count": 5
        }
      ]
    },
    {
      "cell_type": "code",
      "metadata": {
        "id": "oVF6TLnamhyv"
      },
      "source": [
        ""
      ],
      "execution_count": null,
      "outputs": []
    }
  ]
}