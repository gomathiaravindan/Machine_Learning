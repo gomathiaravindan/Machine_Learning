{
  "nbformat": 4,
  "nbformat_minor": 0,
  "metadata": {
    "colab": {
      "name": "1818121_Exp_no11.ipynb",
      "provenance": [],
      "collapsed_sections": [],
      "authorship_tag": "ABX9TyNFzZ/ZRpmDhQnScco1VX9Y",
      "include_colab_link": true
    },
    "kernelspec": {
      "name": "python3",
      "display_name": "Python 3"
    }
  },
  "cells": [
    {
      "cell_type": "markdown",
      "metadata": {
        "id": "view-in-github",
        "colab_type": "text"
      },
      "source": [
        "<a href=\"https://colab.research.google.com/github/gomathiaravindan/Machine_Learning/blob/main/1818121_Exp_no11.ipynb\" target=\"_parent\"><img src=\"https://colab.research.google.com/assets/colab-badge.svg\" alt=\"Open In Colab\"/></a>"
      ]
    },
    {
      "cell_type": "code",
      "metadata": {
        "id": "xhuxDwLkW7lE"
      },
      "source": [
        "import numpy as np # linear algebra\n",
        "import pandas as pd # data processing, CSV file I/O (e.g. pd.read_csv)\n",
        "import matplotlib.pyplot as plt\n",
        "from sklearn import svm\n",
        "from sklearn.svm import SVC\n",
        "from sklearn.metrics import classification_report\n",
        "from sklearn.metrics import confusion_matrix\n",
        "from sklearn.metrics import f1_score\n",
        "from sklearn.metrics import accuracy_score\n",
        "from sklearn.metrics import recall_score\n",
        "from sklearn.metrics import precision_score, precision_recall_curve\n",
        "from sklearn.metrics import roc_auc_score, roc_curve, auc, average_precision_score\n",
        "from sklearn.preprocessing import StandardScaler\n",
        "from sklearn.model_selection import train_test_split\n",
        "from mlxtend.plotting import plot_confusion_matrix\n",
        "import warnings\n",
        "warnings.filterwarnings('ignore')\n",
        " \n",
        "# Input data files are available in the \"../input/\" directory.\n",
        "# For example, running this (by clicking run or pressing Shift+Enter) will list the files in the input directory\n",
        " \n",
        "import os\n",
        "#print(os.listdir(\"../input\"))"
      ],
      "execution_count": null,
      "outputs": []
    },
    {
      "cell_type": "code",
      "metadata": {
        "colab": {
          "base_uri": "https://localhost:8080/",
          "height": 890
        },
        "id": "kXH6iK0AYCjB",
        "outputId": "0800262b-56c3-4107-92ff-0ba60ed8d06c"
      },
      "source": [
        "data = pd.read_csv(\"creditcard.csv\")\r\n",
        "\r\n",
        "#Show the unbalace of the data \r\n",
        "count = pd.value_counts(data['Class'], sort = True).sort_index()\r\n",
        "count.plot(kind = 'bar')\r\n",
        "plt.title('Unbalance Data')\r\n",
        "plt.xlabel('Class')\r\n",
        "plt.ylabel('Frequency')\r\n",
        "plt.show()\r\n",
        "\r\n",
        "'''\r\n",
        "Dataset is highly unbalanced and is understandable. \r\n",
        "Class 0 represents the normal transactions\r\n",
        "Class 1 represents the fraudulent transactions\r\n",
        "'''\r\n",
        "No_of_frauds= len(data[data[\"Class\"]==1])\r\n",
        "No_of_normals = len(data[data[\"Class\"]==0])\r\n",
        "total= No_of_frauds + No_of_normals\r\n",
        "Fraud_percent= (No_of_frauds / total)*100\r\n",
        "Normal_percent= (No_of_normals / total)*100\r\n",
        "\r\n",
        "print(\"The number of normal transactions(Class 0) are: \", No_of_normals)\r\n",
        "print(\"The number of fraudulent transactions(Class 1) are: \", No_of_frauds)\r\n",
        "print(\"Class 0 percentage = \", Normal_percent)\r\n",
        "print(\"Class 1 percentage = \", Fraud_percent)\r\n",
        "\r\n",
        "#Resampleing the dataset\r\n",
        "data['normAmount']=StandardScaler().fit_transform(data['Amount'].values.reshape(-1,1))\r\n",
        "X=data.drop(['Time','Amount'],axis=1)\r\n",
        "y=data['Class']\r\n",
        "\r\n",
        "# Split the data into training and testing subsets\r\n",
        "X_train, X_test, y_train, y_test = train_test_split(X, y, test_size = 0.25, random_state = 12)\r\n",
        "\r\n",
        "# show the dimensions of the train/test data\r\n",
        "print(\"X_train.shape: \", X_train.shape)\r\n",
        "print(\"X_test.shape: \", X_test.shape)\r\n",
        "print(\"y_train.shape: \", y_train.shape)\r\n",
        "print(\"y_test.shape: \", y_test.shape)\r\n",
        "\r\n",
        "# Applying SVM Algorithm\r\n",
        "print(\"-----------------------------------------------------------------------------------\")\r\n",
        "print(\"                                Support Vector Machine                             \")              \r\n",
        "print(\"-----------------------------------------------------------------------------------\")\r\n",
        "\r\n",
        "#Using the rbf kernel to build the initail model.\r\n",
        "classifier= svm.SVC(C= 1, kernel= 'linear', random_state= 0)\r\n",
        "\r\n",
        "#Fit into Model\r\n",
        "classifier.fit(X_train, y_train)\r\n",
        "\r\n",
        "#Predict the class using X_test\r\n",
        "y_pred = classifier.predict(X_test)\r\n",
        "\r\n",
        "con_mat = confusion_matrix(y_test, y_pred)\r\n",
        "average_precision = average_precision_score(y_test, y_pred)\r\n",
        "cls_report = classification_report(y_test, y_pred)\r\n",
        "\r\n",
        "print(\"*****************************************************************\")\r\n",
        "print(\"Area under the curve : %f\" % (roc_auc_score(y_test, y_pred)))\r\n",
        "print(\"Average precision-recall score RF: {}\".format(average_precision))\r\n",
        "print(con_mat)\r\n",
        "print(cls_report)\r\n",
        "print(\"*****************************************************************\")\r\n",
        "\r\n",
        "def confus_matrix(CM):\r\n",
        "    fig, ax = plot_confusion_matrix(conf_mat= CM)\r\n",
        "    plt.title(\"The Confusion Matrix of full dataset using best_parameters\")\r\n",
        "    plt.ylabel(\"Actual\")\r\n",
        "    plt.xlabel(\"Predicted\")\r\n",
        "    plt.show()\r\n",
        "    print(\"The accuracy is \"+str((CM[1,1]+CM[0,0])/(CM[0,0] + CM[0,1]+CM[1,0] + CM[1,1])*100) + \" %\")\r\n",
        "    print(\"The recall from the confusion matrix is \"+ str(CM[1,1]/(CM[1,0] + CM[1,1])*100) +\" %\")\r\n",
        "confus_matrix(con_mat)\r\n",
        "\r\n",
        "precision, recall, _ = precision_recall_curve(y_test, y_pred)\r\n",
        "plt.step(recall, precision, color='b', alpha=0.2, where='post')\r\n",
        "plt.fill_between(recall, precision, step='post', alpha=0.2, color='b')\r\n",
        "\r\n",
        "plt.xlabel('Recall')\r\n",
        "plt.ylabel('Precision')\r\n",
        "plt.ylim([0.0, 1.05])\r\n",
        "plt.xlim([0.0, 1.0])\r\n",
        "plt.title('2-class Precision-Recall curve: AP={0:0.2f}'.format(average_precision))\r\n",
        "\r\n",
        "fpr_rf, tpr_rf, _ = roc_curve(y_test, y_pred)\r\n",
        "roc_auc_rf = auc(fpr_rf, tpr_rf)\r\n",
        "plt.figure(figsize=(8,8))\r\n",
        "plt.xlim([-0.01, 1.00])\r\n",
        "plt.ylim([-0.01, 1.01])\r\n",
        "plt.plot(fpr_rf, tpr_rf, lw=1, label='{} curve (AUC = {:0.2f})'.format('RF',roc_auc_rf))\r\n",
        "\r\n",
        "plt.xlabel('False Positive Rate', fontsize=16)\r\n",
        "plt.ylabel('True Positive Rate', fontsize=16)\r\n",
        "plt.title('ROC curve', fontsize=16)\r\n",
        "plt.legend(loc='lower right', fontsize=13)\r\n",
        "plt.plot([0, 1], [0, 1], color='navy', lw=1, linestyle='--')\r\n",
        "plt.axes().set_aspect('equal')\r\n",
        "plt.show()"
      ],
      "execution_count": null,
      "outputs": [
        {
          "output_type": "display_data",
          "data": {
            "image/png": "[encoded data removed]",
            "text/plain": [
              "<Figure size 432x288 with 1 Axes>"
            ]
          },
          "metadata": {
            "tags": []
          }
        },
        {
          "output_type": "stream",
          "text": [
            "The number of normal transactions(Class 0) are:  211595\n",
            "The number of fraudulent transactions(Class 1) are:  394\n",
            "Class 0 percentage =  99.81414129978442\n",
            "Class 1 percentage =  0.1858587002155772\n",
            "X_train.shape:  (158992, 30)\n",
            "X_test.shape:  (52998, 30)\n",
            "y_train.shape:  (158992,)\n",
            "y_test.shape:  (52998,)\n",
            "-----------------------------------------------------------------------------------\n",
            "                                Support Vector Machine                             \n",
            "-----------------------------------------------------------------------------------\n"
          ],
          "name": "stdout"
        },
        {
          "output_type": "error",
          "ename": "NotFittedError",
          "evalue": "ignored",
          "traceback": [
            "\u001b[0;31m---------------------------------------------------------------------------\u001b[0m",
            "\u001b[0;31mNotFittedError\u001b[0m                            Traceback (most recent call last)",
            "\u001b[0;32m<ipython-input-52-de880d5819b5>\u001b[0m in \u001b[0;36m<module>\u001b[0;34m()\u001b[0m\n\u001b[1;32m     51\u001b[0m \u001b[0;34m\u001b[0m\u001b[0m\n\u001b[1;32m     52\u001b[0m \u001b[0;31m#Predict the class using X_test\u001b[0m\u001b[0;34m\u001b[0m\u001b[0;34m\u001b[0m\u001b[0;34m\u001b[0m\u001b[0m\n\u001b[0;32m---> 53\u001b[0;31m \u001b[0my_pred\u001b[0m \u001b[0;34m=\u001b[0m \u001b[0mclassifier\u001b[0m\u001b[0;34m.\u001b[0m\u001b[0mpredict\u001b[0m\u001b[0;34m(\u001b[0m\u001b[0mX_test\u001b[0m\u001b[0;34m)\u001b[0m\u001b[0;34m\u001b[0m\u001b[0;34m\u001b[0m\u001b[0m\n\u001b[0m\u001b[1;32m     54\u001b[0m \u001b[0;34m\u001b[0m\u001b[0m\n\u001b[1;32m     55\u001b[0m \u001b[0mcon_mat\u001b[0m \u001b[0;34m=\u001b[0m \u001b[0mconfusion_matrix\u001b[0m\u001b[0;34m(\u001b[0m\u001b[0my_test\u001b[0m\u001b[0;34m,\u001b[0m \u001b[0my_pred\u001b[0m\u001b[0;34m)\u001b[0m\u001b[0;34m\u001b[0m\u001b[0;34m\u001b[0m\u001b[0m\n",
            "\u001b[0;32m/usr/local/lib/python3.7/dist-packages/sklearn/svm/_base.py\u001b[0m in \u001b[0;36mpredict\u001b[0;34m(self, X)\u001b[0m\n\u001b[1;32m    582\u001b[0m             \u001b[0mClass\u001b[0m \u001b[0mlabels\u001b[0m \u001b[0;32mfor\u001b[0m \u001b[0msamples\u001b[0m \u001b[0;32min\u001b[0m \u001b[0mX\u001b[0m\u001b[0;34m.\u001b[0m\u001b[0;34m\u001b[0m\u001b[0;34m\u001b[0m\u001b[0m\n\u001b[1;32m    583\u001b[0m         \"\"\"\n\u001b[0;32m--> 584\u001b[0;31m         \u001b[0mcheck_is_fitted\u001b[0m\u001b[0;34m(\u001b[0m\u001b[0mself\u001b[0m\u001b[0;34m)\u001b[0m\u001b[0;34m\u001b[0m\u001b[0;34m\u001b[0m\u001b[0m\n\u001b[0m\u001b[1;32m    585\u001b[0m         \u001b[0;32mif\u001b[0m \u001b[0mself\u001b[0m\u001b[0;34m.\u001b[0m\u001b[0mbreak_ties\u001b[0m \u001b[0;32mand\u001b[0m \u001b[0mself\u001b[0m\u001b[0;34m.\u001b[0m\u001b[0mdecision_function_shape\u001b[0m \u001b[0;34m==\u001b[0m \u001b[0;34m'ovo'\u001b[0m\u001b[0;34m:\u001b[0m\u001b[0;34m\u001b[0m\u001b[0;34m\u001b[0m\u001b[0m\n\u001b[1;32m    586\u001b[0m             raise ValueError(\"break_ties must be False when \"\n",
            "\u001b[0;32m/usr/local/lib/python3.7/dist-packages/sklearn/utils/validation.py\u001b[0m in \u001b[0;36mcheck_is_fitted\u001b[0;34m(estimator, attributes, msg, all_or_any)\u001b[0m\n\u001b[1;32m    965\u001b[0m \u001b[0;34m\u001b[0m\u001b[0m\n\u001b[1;32m    966\u001b[0m     \u001b[0;32mif\u001b[0m \u001b[0;32mnot\u001b[0m \u001b[0mattrs\u001b[0m\u001b[0;34m:\u001b[0m\u001b[0;34m\u001b[0m\u001b[0;34m\u001b[0m\u001b[0m\n\u001b[0;32m--> 967\u001b[0;31m         \u001b[0;32mraise\u001b[0m \u001b[0mNotFittedError\u001b[0m\u001b[0;34m(\u001b[0m\u001b[0mmsg\u001b[0m \u001b[0;34m%\u001b[0m \u001b[0;34m{\u001b[0m\u001b[0;34m'name'\u001b[0m\u001b[0;34m:\u001b[0m \u001b[0mtype\u001b[0m\u001b[0;34m(\u001b[0m\u001b[0mestimator\u001b[0m\u001b[0;34m)\u001b[0m\u001b[0;34m.\u001b[0m\u001b[0m__name__\u001b[0m\u001b[0;34m}\u001b[0m\u001b[0;34m)\u001b[0m\u001b[0;34m\u001b[0m\u001b[0;34m\u001b[0m\u001b[0m\n\u001b[0m\u001b[1;32m    968\u001b[0m \u001b[0;34m\u001b[0m\u001b[0m\n\u001b[1;32m    969\u001b[0m \u001b[0;34m\u001b[0m\u001b[0m\n",
            "\u001b[0;31mNotFittedError\u001b[0m: This SVC instance is not fitted yet. Call 'fit' with appropriate arguments before using this estimator."
          ]
        }
      ]
    },
    {
      "cell_type": "code",
      "metadata": {
        "id": "A98xwap1ZsCR"
      },
      "source": [
        "print('We have detected ' + str(cm[1][1]) + ' frauds / ' + str(cm[1][1]+cm[1][0]) + ' total frauds.')\r\n",
        "print('\\nSo, the probability to detect a fraud is ' + str(cm[1][1]/(cm[1][1]+cm[1][0])))\r\n",
        "print(\"the accuracy is : \"+str((cm[0][0]+cm[1][1]) / (sum(cm[0]) + sum(cm[1]))))"
      ],
      "execution_count": null,
      "outputs": []
    }
  ]
}